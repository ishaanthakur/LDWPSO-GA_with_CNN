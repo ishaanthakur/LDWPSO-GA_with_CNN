{
 "cells": [
  {
   "cell_type": "code",
   "execution_count": 1,
   "metadata": {
    "colab": {
     "base_uri": "https://localhost:8080/"
    },
    "id": "k3cc0qWKB_N2",
    "outputId": "ab81c3f8-bb0f-4ac9-b4af-713a165a1f33"
   },
   "outputs": [
    {
     "name": "stdout",
     "output_type": "stream",
     "text": [
      "Downloading data from https://www.cs.toronto.edu/~kriz/cifar-10-python.tar.gz\n",
      "170500096/170498071 [==============================] - 11s 0us/step\n"
     ]
    }
   ],
   "source": [
    "from keras import datasets\n",
    "\n",
    "(x_train, y_train), (x_test, y_test) = datasets.cifar10.load_data()"
   ]
  },
  {
   "cell_type": "code",
   "execution_count": 2,
   "metadata": {
    "colab": {
     "base_uri": "https://localhost:8080/"
    },
    "id": "p5frDm6qmcvR",
    "outputId": "02e4200c-6903-4c87-e059-6c863d855b9f"
   },
   "outputs": [
    {
     "data": {
      "text/plain": [
       "((50000, 32, 32, 3), (50000, 1))"
      ]
     },
     "execution_count": 2,
     "metadata": {
      "tags": []
     },
     "output_type": "execute_result"
    }
   ],
   "source": [
    "x_train.shape, y_train.shape"
   ]
  },
  {
   "cell_type": "code",
   "execution_count": 3,
   "metadata": {
    "colab": {
     "base_uri": "https://localhost:8080/"
    },
    "id": "Sa8UM_6RmiQb",
    "outputId": "b3c54c60-7462-46ab-9c60-1c1b84c08f8e"
   },
   "outputs": [
    {
     "data": {
      "text/plain": [
       "((10000, 32, 32, 3), (10000, 1))"
      ]
     },
     "execution_count": 3,
     "metadata": {
      "tags": []
     },
     "output_type": "execute_result"
    }
   ],
   "source": [
    "x_test.shape, y_test.shape"
   ]
  },
  {
   "cell_type": "code",
   "execution_count": 4,
   "metadata": {
    "colab": {
     "base_uri": "https://localhost:8080/",
     "height": 283
    },
    "id": "-hPTZwjSmov2",
    "outputId": "ee059d0b-def0-4fe7-fc78-53f05274f5af"
   },
   "outputs": [
    {
     "name": "stdout",
     "output_type": "stream",
     "text": [
      "Class:  [9]\n"
     ]
    },
    {
     "data": {
      "image/png": "[encoded data removed]",
      "text/plain": [
       "<Figure size 432x288 with 1 Axes>"
      ]
     },
     "metadata": {
      "needs_background": "light",
      "tags": []
     },
     "output_type": "display_data"
    }
   ],
   "source": [
    "import matplotlib.pyplot as plt \n",
    "plt.imshow(x_train[1])\n",
    "print(\"Class: \", y_train[1])"
   ]
  },
  {
   "cell_type": "markdown",
   "metadata": {
    "id": "tETnStdnoEt0"
   },
   "source": [
    "Cifar10 classes:\n",
    "\n",
    "0: airplane\t\t\t\t\t\t\t\t\t\t\n",
    "1: automobile\t\t\t\t\t\t\t\t\t\t\n",
    "2: bird\t\t\t\t\t\t\t\t\t\t\n",
    "3: cat\t\t\t\t\t\t\t\t\t\t\n",
    "4: deer\t\t\t\t\t\t\t\t\t\t\n",
    "5: dog\t\t\t\t\t\t\t\t\t\t\n",
    "6: frog\t\t\t\t\t\t\t\t\t\t\n",
    "7: horse\t\t\t\t\t\t\t\t\t\t\n",
    "8: ship\t\t\t\t\t\t\t\t\t\t\n",
    "9: truck"
   ]
  },
  {
   "cell_type": "code",
   "execution_count": 5,
   "metadata": {
    "colab": {
     "base_uri": "https://localhost:8080/"
    },
    "id": "MOziRWxWm_xl",
    "outputId": "39e87e0d-0fa4-499a-aca4-b36e13c44af4"
   },
   "outputs": [
    {
     "data": {
      "text/plain": [
       "array([0, 1, 2, 3, 4, 5, 6, 7, 8, 9], dtype=uint8)"
      ]
     },
     "execution_count": 5,
     "metadata": {
      "tags": []
     },
     "output_type": "execute_result"
    }
   ],
   "source": [
    "import numpy as np\n",
    "np.unique(y_train)"
   ]
  },
  {
   "cell_type": "code",
   "execution_count": 6,
   "metadata": {
    "id": "-NPNPsNtoYEO"
   },
   "outputs": [],
   "source": [
    "from keras import models\n",
    "from keras import layers\n",
    "\n",
    "model = models.Sequential()\n",
    "model.add(layers.Conv2D(32, (3,3), input_shape=(32,32,3), activation = \"relu\"))\n",
    "model.add(layers.BatchNormalization())\n",
    "model.add(layers.Conv2D(32, (3,3), activation = \"relu\"))\n",
    "model.add(layers.BatchNormalization())\n",
    "model.add(layers.MaxPooling2D(2,2))\n",
    "model.add(layers.Conv2D(64, (3,3), activation = \"relu\"))\n",
    "model.add(layers.BatchNormalization())\n",
    "model.add(layers.Conv2D(64, (3,3), activation = \"relu\"))\n",
    "model.add(layers.BatchNormalization())\n",
    "model.add(layers.MaxPooling2D(2,2))\n",
    "model.add(layers.Conv2D(128, (3,3), activation = \"relu\"))\n",
    "model.add(layers.BatchNormalization())\n",
    "model.add(layers.MaxPooling2D(2,2))\n",
    "model.add(layers.Flatten())\n",
    "model.add(layers.Dropout(0.2))\n",
    "model.add(layers.Dense(512, activation=\"relu\"))\n",
    "model.add(layers.Dropout(0.2))\n",
    "model.add(layers.Dense(10, activation=\"softmax\"))"
   ]
  },
  {
   "cell_type": "code",
   "execution_count": 7,
   "metadata": {
    "colab": {
     "base_uri": "https://localhost:8080/"
    },
    "id": "qRDL8K4DtZdo",
    "outputId": "ced0f23c-c522-473e-c108-183f7f4681dd"
   },
   "outputs": [
    {
     "name": "stdout",
     "output_type": "stream",
     "text": [
      "Model: \"sequential\"\n",
      "_________________________________________________________________\n",
      "Layer (type)                 Output Shape              Param #   \n",
      "=================================================================\n",
      "conv2d (Conv2D)              (None, 30, 30, 32)        896       \n",
      "_________________________________________________________________\n",
      "batch_normalization (BatchNo (None, 30, 30, 32)        128       \n",
      "_________________________________________________________________\n",
      "conv2d_1 (Conv2D)            (None, 28, 28, 32)        9248      \n",
      "_________________________________________________________________\n",
      "batch_normalization_1 (Batch (None, 28, 28, 32)        128       \n",
      "_________________________________________________________________\n",
      "max_pooling2d (MaxPooling2D) (None, 14, 14, 32)        0         \n",
      "_________________________________________________________________\n",
      "conv2d_2 (Conv2D)            (None, 12, 12, 64)        18496     \n",
      "_________________________________________________________________\n",
      "batch_normalization_2 (Batch (None, 12, 12, 64)        256       \n",
      "_________________________________________________________________\n",
      "conv2d_3 (Conv2D)            (None, 10, 10, 64)        36928     \n",
      "_________________________________________________________________\n",
      "batch_normalization_3 (Batch (None, 10, 10, 64)        256       \n",
      "_________________________________________________________________\n",
      "max_pooling2d_1 (MaxPooling2 (None, 5, 5, 64)          0         \n",
      "_________________________________________________________________\n",
      "conv2d_4 (Conv2D)            (None, 3, 3, 128)         73856     \n",
      "_________________________________________________________________\n",
      "batch_normalization_4 (Batch (None, 3, 3, 128)         512       \n",
      "_________________________________________________________________\n",
      "max_pooling2d_2 (MaxPooling2 (None, 1, 1, 128)         0         \n",
      "_________________________________________________________________\n",
      "flatten (Flatten)            (None, 128)               0         \n",
      "_________________________________________________________________\n",
      "dropout (Dropout)            (None, 128)               0         \n",
      "_________________________________________________________________\n",
      "dense (Dense)                (None, 512)               66048     \n",
      "_________________________________________________________________\n",
      "dropout_1 (Dropout)          (None, 512)               0         \n",
      "_________________________________________________________________\n",
      "dense_1 (Dense)              (None, 10)                5130      \n",
      "=================================================================\n",
      "Total params: 211,882\n",
      "Trainable params: 211,242\n",
      "Non-trainable params: 640\n",
      "_________________________________________________________________\n"
     ]
    }
   ],
   "source": [
    "model.summary()"
   ]
  },
  {
   "cell_type": "code",
   "execution_count": 8,
   "metadata": {
    "id": "2iIuGLoJukvK"
   },
   "outputs": [],
   "source": [
    "train_images =x_train.astype('float32')/255\n",
    "test_images=x_test.astype('float32')/255"
   ]
  },
  {
   "cell_type": "code",
   "execution_count": 9,
   "metadata": {
    "id": "95alXh1Itbeh"
   },
   "outputs": [],
   "source": [
    "from keras.utils.np_utils import to_categorical\n",
    "\n",
    "train_labels=to_categorical(y_train)\n",
    "test_labels=to_categorical(y_test)"
   ]
  },
  {
   "cell_type": "code",
   "execution_count": 10,
   "metadata": {
    "id": "Muq41Hb_u3ei"
   },
   "outputs": [],
   "source": [
    "val_images=train_images[:10000]\n",
    "partial_images=train_images[10000:]\n",
    "\n",
    "val_labels=train_labels[:10000]\n",
    "partial_labels=train_labels[10000:]"
   ]
  },
  {
   "cell_type": "code",
   "execution_count": 11,
   "metadata": {
    "id": "VrkDfmu2vLB1"
   },
   "outputs": [],
   "source": [
    "from keras import optimizers\n",
    "model.compile(loss=\"categorical_crossentropy\",optimizer=optimizers.Adam(0.01),metrics=[\"accuracy\"])"
   ]
  },
  {
   "cell_type": "code",
   "execution_count": 12,
   "metadata": {
    "id": "u4AOovMIvvIn"
   },
   "outputs": [],
   "source": [
    "from keras.callbacks import EarlyStopping\n",
    "es = EarlyStopping(monitor= \"val_accuracy\", patience = 7)"
   ]
  },
  {
   "cell_type": "code",
   "execution_count": 13,
   "metadata": {
    "colab": {
     "base_uri": "https://localhost:8080/"
    },
    "id": "R7rcvi7wvX_R",
    "outputId": "200d6f81-723e-4352-9e61-a46e5a13af50"
   },
   "outputs": [
    {
     "name": "stdout",
     "output_type": "stream",
     "text": [
      "Epoch 1/60\n",
      "1250/1250 [==============================] - 13s 5ms/step - loss: 1.9861 - accuracy: 0.3056 - val_loss: 1.5153 - val_accuracy: 0.4754\n",
      "Epoch 2/60\n",
      "1250/1250 [==============================] - 5s 4ms/step - loss: 1.3837 - accuracy: 0.5076 - val_loss: 1.2292 - val_accuracy: 0.5767\n",
      "Epoch 3/60\n",
      "1250/1250 [==============================] - 5s 4ms/step - loss: 1.2028 - accuracy: 0.5842 - val_loss: 1.2132 - val_accuracy: 0.5830\n",
      "Epoch 4/60\n",
      "1250/1250 [==============================] - 5s 4ms/step - loss: 1.0907 - accuracy: 0.6231 - val_loss: 1.0334 - val_accuracy: 0.6410\n",
      "Epoch 5/60\n",
      "1250/1250 [==============================] - 6s 4ms/step - loss: 1.0221 - accuracy: 0.6505 - val_loss: 1.6815 - val_accuracy: 0.4763\n",
      "Epoch 6/60\n",
      "1250/1250 [==============================] - 5s 4ms/step - loss: 0.9710 - accuracy: 0.6674 - val_loss: 0.9321 - val_accuracy: 0.6826\n",
      "Epoch 7/60\n",
      "1250/1250 [==============================] - 5s 4ms/step - loss: 0.9120 - accuracy: 0.6943 - val_loss: 0.9326 - val_accuracy: 0.6900\n",
      "Epoch 8/60\n",
      "1250/1250 [==============================] - 5s 4ms/step - loss: 0.8796 - accuracy: 0.7050 - val_loss: 1.0352 - val_accuracy: 0.6539\n",
      "Epoch 9/60\n",
      "1250/1250 [==============================] - 5s 4ms/step - loss: 0.8346 - accuracy: 0.7212 - val_loss: 0.9765 - val_accuracy: 0.6906\n",
      "Epoch 10/60\n",
      "1250/1250 [==============================] - 5s 4ms/step - loss: 0.8170 - accuracy: 0.7264 - val_loss: 1.0612 - val_accuracy: 0.6745\n",
      "Epoch 11/60\n",
      "1250/1250 [==============================] - 6s 4ms/step - loss: 0.7817 - accuracy: 0.7416 - val_loss: 0.9334 - val_accuracy: 0.6900\n",
      "Epoch 12/60\n",
      "1250/1250 [==============================] - 6s 4ms/step - loss: 0.7621 - accuracy: 0.7460 - val_loss: 0.8805 - val_accuracy: 0.7058\n",
      "Epoch 13/60\n",
      "1250/1250 [==============================] - 6s 4ms/step - loss: 0.7359 - accuracy: 0.7551 - val_loss: 0.9519 - val_accuracy: 0.6930\n",
      "Epoch 14/60\n",
      "1250/1250 [==============================] - 5s 4ms/step - loss: 0.7107 - accuracy: 0.7677 - val_loss: 0.9362 - val_accuracy: 0.6968\n",
      "Epoch 15/60\n",
      "1250/1250 [==============================] - 5s 4ms/step - loss: 0.6723 - accuracy: 0.7773 - val_loss: 0.8334 - val_accuracy: 0.7361\n",
      "Epoch 16/60\n",
      "1250/1250 [==============================] - 6s 4ms/step - loss: 0.6612 - accuracy: 0.7843 - val_loss: 0.9564 - val_accuracy: 0.6985\n",
      "Epoch 17/60\n",
      "1250/1250 [==============================] - 6s 5ms/step - loss: 0.6511 - accuracy: 0.7839 - val_loss: 1.0104 - val_accuracy: 0.6792\n",
      "Epoch 18/60\n",
      "1250/1250 [==============================] - 6s 4ms/step - loss: 0.6490 - accuracy: 0.7864 - val_loss: 0.9982 - val_accuracy: 0.7065\n",
      "Epoch 19/60\n",
      "1250/1250 [==============================] - 6s 4ms/step - loss: 0.6204 - accuracy: 0.7981 - val_loss: 0.9468 - val_accuracy: 0.6984\n",
      "Epoch 20/60\n",
      "1250/1250 [==============================] - 6s 4ms/step - loss: 0.6087 - accuracy: 0.8030 - val_loss: 0.9165 - val_accuracy: 0.7061\n",
      "Epoch 21/60\n",
      "1250/1250 [==============================] - 6s 4ms/step - loss: 0.5939 - accuracy: 0.8106 - val_loss: 0.8879 - val_accuracy: 0.7370\n",
      "Epoch 22/60\n",
      "1250/1250 [==============================] - 6s 4ms/step - loss: 0.5854 - accuracy: 0.8088 - val_loss: 0.8814 - val_accuracy: 0.7379\n",
      "Epoch 23/60\n",
      "1250/1250 [==============================] - 6s 4ms/step - loss: 0.5776 - accuracy: 0.8121 - val_loss: 0.8972 - val_accuracy: 0.7189\n",
      "Epoch 24/60\n",
      "1250/1250 [==============================] - 6s 5ms/step - loss: 0.5607 - accuracy: 0.8176 - val_loss: 0.9594 - val_accuracy: 0.7188\n",
      "Epoch 25/60\n",
      "1250/1250 [==============================] - 6s 4ms/step - loss: 0.5496 - accuracy: 0.8233 - val_loss: 0.9606 - val_accuracy: 0.7147\n",
      "Epoch 26/60\n",
      "1250/1250 [==============================] - 6s 4ms/step - loss: 0.5389 - accuracy: 0.8265 - val_loss: 0.9634 - val_accuracy: 0.7259\n",
      "Epoch 27/60\n",
      "1250/1250 [==============================] - 6s 4ms/step - loss: 0.5195 - accuracy: 0.8327 - val_loss: 0.9369 - val_accuracy: 0.7388\n",
      "Epoch 28/60\n",
      "1250/1250 [==============================] - 6s 5ms/step - loss: 0.5243 - accuracy: 0.8313 - val_loss: 1.0966 - val_accuracy: 0.7010\n",
      "Epoch 29/60\n",
      "1250/1250 [==============================] - 6s 4ms/step - loss: 0.5143 - accuracy: 0.8344 - val_loss: 0.9553 - val_accuracy: 0.7327\n",
      "Epoch 30/60\n",
      "1250/1250 [==============================] - 6s 5ms/step - loss: 0.5131 - accuracy: 0.8380 - val_loss: 0.9845 - val_accuracy: 0.7355\n",
      "Epoch 31/60\n",
      "1250/1250 [==============================] - 6s 5ms/step - loss: 0.4885 - accuracy: 0.8450 - val_loss: 1.1346 - val_accuracy: 0.7131\n",
      "Epoch 32/60\n",
      "1250/1250 [==============================] - 6s 4ms/step - loss: 0.4967 - accuracy: 0.8409 - val_loss: 1.0583 - val_accuracy: 0.7295\n",
      "Epoch 33/60\n",
      "1250/1250 [==============================] - 6s 4ms/step - loss: 0.4670 - accuracy: 0.8532 - val_loss: 0.9092 - val_accuracy: 0.7314\n",
      "Epoch 34/60\n",
      "1250/1250 [==============================] - 6s 4ms/step - loss: 0.4794 - accuracy: 0.8493 - val_loss: 0.9763 - val_accuracy: 0.7231\n"
     ]
    }
   ],
   "source": [
    "history = model.fit(partial_images, partial_labels, validation_data=(val_images,val_labels), epochs=60, callbacks=[es])"
   ]
  },
  {
   "cell_type": "code",
   "execution_count": 14,
   "metadata": {
    "colab": {
     "base_uri": "https://localhost:8080/"
    },
    "id": "8fwNxmb-wUcJ",
    "outputId": "c1602509-3f43-4809-dcb4-e8a54a94fc5c"
   },
   "outputs": [
    {
     "name": "stdout",
     "output_type": "stream",
     "text": [
      "313/313 [==============================] - 1s 2ms/step - loss: 0.9596 - accuracy: 0.7247\n"
     ]
    }
   ],
   "source": [
    "metrics = model.evaluate(test_images, test_labels)"
   ]
  },
  {
   "cell_type": "code",
   "execution_count": 15,
   "metadata": {
    "colab": {
     "base_uri": "https://localhost:8080/"
    },
    "id": "_O7BRVGAym76",
    "outputId": "aea266b0-6f91-4ad6-83dd-8ff6b8539858"
   },
   "outputs": [
    {
     "name": "stdout",
     "output_type": "stream",
     "text": [
      "Loss:  0.9596204161643982\n",
      "Accuracy:  0.7246999740600586\n"
     ]
    }
   ],
   "source": [
    "print(\"Loss: \", metrics[0])\n",
    "print(\"Accuracy: \",metrics[1])"
   ]
  },
  {
   "cell_type": "code",
   "execution_count": 16,
   "metadata": {
    "colab": {
     "base_uri": "https://localhost:8080/",
     "height": 590
    },
    "id": "vrcV6PVtzSs6",
    "outputId": "9cc0250d-45bd-41e8-cbbd-b427cc4669b7"
   },
   "outputs": [
    {
     "name": "stdout",
     "output_type": "stream",
     "text": [
      "dict_keys(['loss', 'accuracy', 'val_loss', 'val_accuracy'])\n"
     ]
    },
    {
     "data": {
      "image/png": "[encoded data removed]",
      "text/plain": [
       "<Figure size 432x288 with 1 Axes>"
      ]
     },
     "metadata": {
      "needs_background": "light",
      "tags": []
     },
     "output_type": "display_data"
    },
    {
     "data": {
      "image/png": "[encoded data removed]",
      "text/plain": [
       "<Figure size 432x288 with 1 Axes>"
      ]
     },
     "metadata": {
      "needs_background": "light",
      "tags": []
     },
     "output_type": "display_data"
    }
   ],
   "source": [
    "print(history.history.keys())\n",
    "# summarize history for accuracy\n",
    "plt.plot(history.history['accuracy'])\n",
    "plt.plot(history.history['val_accuracy'])\n",
    "plt.title('model accuracy')\n",
    "plt.ylabel('accuracy')\n",
    "plt.xlabel('epoch')\n",
    "plt.legend(['train', 'test'], loc='upper left')\n",
    "plt.show()\n",
    "# summarize history for loss\n",
    "plt.plot(history.history['loss'])\n",
    "plt.plot(history.history['val_loss'])\n",
    "plt.title('model loss')\n",
    "plt.ylabel('loss')\n",
    "plt.xlabel('epoch')\n",
    "plt.legend(['train', 'test'], loc='upper left')\n",
    "plt.show()"
   ]
  },
  {
   "cell_type": "code",
   "execution_count": null,
   "metadata": {
    "id": "a3DC98orvCw1"
   },
   "outputs": [],
   "source": []
  }
 ],
 "metadata": {
  "accelerator": "GPU",
  "colab": {
   "name": "Cifar10_CNN.ipynb",
   "provenance": []
  },
  "kernelspec": {
   "display_name": "Python 3",
   "language": "python",
   "name": "python3"
  },
  "language_info": {
   "codemirror_mode": {
    "name": "ipython",
    "version": 3
   },
   "file_extension": ".py",
   "mimetype": "text/x-python",
   "name": "python",
   "nbconvert_exporter": "python",
   "pygments_lexer": "ipython3",
   "version": "3.7.5"
  }
 },
 "nbformat": 4,
 "nbformat_minor": 1
}
